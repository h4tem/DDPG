{
 "cells": [
  {
   "cell_type": "markdown",
   "id": "48999453",
   "metadata": {},
   "source": [
    "# Outlook\n",
    "\n",
    "In this notebook, using BBRL, you will study the effect of partial observability \n",
    "on the CartPoleContinuous-v1 environment, using either the DDPG or the TD3 algorithm.\n",
    "\n",
    "To emulate partial observability, you will design dedicated wrappers. Then you will study\n",
    "whether extending the input of the agent policy and critic with a memory of previous states\n",
    "and its output with action chunks can help solve the partial observability issue. This will\n",
    "also be achieved by designing other temporal extension wrappers."
   ]
  },
  {
   "cell_type": "markdown",
   "id": "6b39d97c",
   "metadata": {},
   "source": [
    "# Installation"
   ]
  },
  {
   "cell_type": "code",
   "execution_count": 82,
   "id": "8dbe005f",
   "metadata": {
    "tags": [
     "hide-input"
    ]
   },
   "outputs": [],
   "source": [
    "# Prepare the environment\n",
    "try:\n",
    "    from easypip import easyimport\n",
    "except ModuleNotFoundError:\n",
    "    from subprocess import run\n",
    "\n",
    "    assert (\n",
    "        run([\"pip\", \"install\", \"easypip\"]).returncode == 0\n",
    "    ), \"Could not install easypip\"\n",
    "    from easypip import easyimport\n",
    "\n",
    "easyimport(\"swig\")\n",
    "easyimport(\"bbrl_utils\").setup(maze_mdp=False)\n",
    "\n",
    "import os\n",
    "import copy\n",
    "import gym\n",
    "import numpy as np\n",
    "import gymnasium as gym\n",
    "import math\n",
    "import bbrl_gymnasium  # noqa: F401\n",
    "import torch\n",
    "import torch.nn as nn\n",
    "from bbrl.agents import Agent, Agents, TemporalAgent\n",
    "from bbrl_utils.algorithms import EpochBasedAlgo\n",
    "from bbrl_utils.nn import build_mlp, setup_optimizer, soft_update_params\n",
    "from bbrl_utils.notebook import setup_tensorboard\n",
    "from bbrl.visu.plot_policies import plot_policy\n",
    "from omegaconf import OmegaConf"
   ]
  },
  {
   "cell_type": "markdown",
   "id": "3c0e0af3",
   "metadata": {},
   "source": [
    "# Temporal modification wrappers\n",
    "\n",
    "The CartPoleContinuous-v1 environment is a custom extension of \n",
    "[the CartPole environment](https://gymnasium.farama.org/environments/classic_control/cart_pole/) \n",
    "with continuous actions, between -1 and 1. It is defined in the bbrl_gymnasium library.\n",
    "\n",
    "As in CartPole, the state of the system contains 4 variables:\n",
    "- the position $x$,\n",
    "- the velocity $\\dot{x}$,\n",
    "- the angle of the pole $\\theta$,\n",
    "- the angular velocity $\\dot{\\theta}$.\n",
    "\n",
    "To emulate partial observability in CartPoleContinuous-v1, you will hide the $\\dot{x}$ and $\\dot{\\theta}$ features, \n",
    "by filtering them out of the state of the environment. This is implemented with the ```FeatureFilterWrapper```.\n",
    "\n",
    "To compensate for partial observability, you will extend the architecture of the agent \n",
    "with a memory of previous states and its output with action chunks.\n",
    "This is implemented with to wrappers, the ```ObsTimeExtensionWrapper``` and the ```ActionTimeExtensionWrapper```."
   ]
  },
  {
   "cell_type": "markdown",
   "id": "c4b49f3e",
   "metadata": {},
   "source": [
    "## The FeatureFilterWrapper\n",
    "\n",
    "The FeatureFilterWrapper removes a feature from the output observation when calling the ```reset()``` and ```step(action)``` functions.\n",
    "The index of the removed feature is given when building the object.\n",
    "\n",
    "To hide the $\\dot{x}$ and $\\dot{\\theta}$ features from the CartPoleContinuous-v1 environment, \n",
    "the idea is to call the wrapper twice, using something like\n",
    "```env = FeatureFilterWrapper(FeatureFilterWrapper(inner_env, 3), 1)``` where ```inner_env``` is the CartPoleContinuous-v1 environment.\n",
    "\n",
    "### Exercise 1: code the FeatureFilterWrapper class below.\n",
    "\n",
    "Beyond rewriting the ```reset()``` and ```step(action)``` functions, beware of adapting the observation space and its shape."
   ]
  },
  {
   "cell_type": "code",
   "execution_count": 83,
   "id": "b4ba0c7f",
   "metadata": {
    "lines_to_next_cell": 1
   },
   "outputs": [],
   "source": [
    "# To be completed...\n",
    "\n",
    "class FeatureFilterWrapper(gym.ObservationWrapper):\n",
    "    def __init__(self, env, index):\n",
    "        super().__init__(env)\n",
    "        self.index = index\n",
    "        self._adjust_observation_space()\n",
    "    \n",
    "    def _adjust_observation_space(self):\n",
    "        old_space = self.observation_space\n",
    "        low = np.delete(old_space.low, self.index)\n",
    "        high = np.delete(old_space.high, self.index)\n",
    "        self.observation_space = gym.spaces.Box(low=low, high=high, dtype=old_space.dtype)\n",
    "    \n",
    "    def observation(self,obs):\n",
    "        return np.delete(obs, self.index)"
   ]
  },
  {
   "cell_type": "code",
   "execution_count": 84,
   "id": "4c538da2",
   "metadata": {},
   "outputs": [
    {
     "name": "stdout",
     "output_type": "stream",
     "text": [
      "[-0.02316633  0.00855443]\n"
     ]
    }
   ],
   "source": [
    "env = gym.make('CartPole-v1')\n",
    "env.reset()\n",
    "env = FeatureFilterWrapper(FeatureFilterWrapper(env, 3),1)\n",
    "action = torch.randint(0,2,(1,)).item()\n",
    "observation, reward, terminated, truncated, info = env.step(action)\n",
    "print(observation)"
   ]
  },
  {
   "cell_type": "code",
   "execution_count": 85,
   "id": "93100d76",
   "metadata": {},
   "outputs": [
    {
     "name": "stdout",
     "output_type": "stream",
     "text": [
      "(array([0.03707886, 0.04693683], dtype=float32), {})\n"
     ]
    }
   ],
   "source": [
    "print(env.reset())"
   ]
  },
  {
   "cell_type": "markdown",
   "id": "f91f63b4",
   "metadata": {},
   "source": [
    "## The ObsTimeExtensionWrapper\n",
    "\n",
    "When facing a partially observable environment, training with RL a reactive agent which just selects an action based on the current observation\n",
    "is not guaranteed to reach optimality. An option to mitigate this fundamental limitation is to equip the agent with a memory of the past.\n",
    "\n",
    "One way to do so is to use a recurrent neural network instead of a feedforward one to implement the agent: the neural network contains\n",
    "some memory capacity and the RL process may tune this internal memory so as to remember exactly what is necessary from the\n",
    "past observation. This has been done many times using an LSTM, see for instance \n",
    "[this early paper](https://proceedings.neurips.cc/paper/2001/file/a38b16173474ba8b1a95bcbc30d3b8a5-Paper.pdf).\n",
    "\n",
    "Another way to do so is to equip the agent with a list-like memory of the past observations \n",
    "and to extend the critic and policy to take as input the current observation and the previous ones.\n",
    "This removes the difficulty of learning an adequate representation of the past, but this results in \n",
    "enlarging the input size of the actor and critic networks. This can only be done if the required memory\n",
    "horizon to behave optimally is small enough.\n",
    "\n",
    "In the case of the CartPoleContinuous-v1 environment, one can see immediately that a memory of the previous\n",
    "observation is enough to compensate for the absence of the derivative features, since $\\dot{a} \\approx (a_{t} - a_{t-1})$.\n",
    "\n",
    "So we will extend the RL agent with a memory of size 1.\n",
    "\n",
    "Though it may not be intuitive at first glance, the simplest way to do so is to embed the environment into a wrapper\n",
    "which contains the required memory and produces the extended observations. This way, the RL agent will naturally be built\n",
    "with an extended observation space, and the wrapper will be in charge of concatenating the memorized\n",
    "observation from the previous step with the current observation received from the inner environment when calling the ```step(action)``` function.\n",
    "When calling the ```reset()``` function, the memory of observations should be reinitialized with null observations.\n",
    "\n",
    "### Exercise 2: code the ObsTimeExtensionWrapper class below.\n",
    "\n",
    "Beyond rewriting the ```reset()``` and ```step(action)``` functions, beware of adapting the observation space and its shape."
   ]
  },
  {
   "cell_type": "code",
   "execution_count": 104,
   "id": "cefbada0",
   "metadata": {},
   "outputs": [],
   "source": [
    "# To be completed...\n",
    "\n",
    "class ObsTimeExtensionWrapper(gym.ObservationWrapper):\n",
    "    def __init__(self,env):\n",
    "        super().__init__(env)\n",
    "        self.prev_obs = None\n",
    "        self._adjust_observation_space()\n",
    "    \n",
    "    def _adjust_observation_space(self):\n",
    "        old_space = self.observation_space\n",
    "        low = np.repeat(old_space.low,2)\n",
    "        high = np.repeat(old_space.high,2)\n",
    "        self.observation_space = gym.spaces.Box(low=low,high=high, dtype=old_space.dtype)\n",
    "\n",
    "    def observation(self,obs):\n",
    "        if self.prev_obs is None:\n",
    "            obs = np.array([None,None,obs[0],obs[1]])\n",
    "            self.prev_obs = obs\n",
    "            return obs\n",
    "        else:\n",
    "            obs = np.concatenate([self.prev_obs[2:],obs])\n",
    "        self.prev_obs = obs\n",
    "        return obs"
   ]
  },
  {
   "cell_type": "code",
   "execution_count": 105,
   "id": "12b793b5",
   "metadata": {},
   "outputs": [
    {
     "name": "stdout",
     "output_type": "stream",
     "text": [
      "[None None -0.038268447 -0.003587348] False\n",
      "[-0.038268447 -0.003587348 -0.04166208952665329 0.0018980284221470356] False\n",
      "[-0.04166208952665329 0.0018980284221470356 -0.04895714297890663\n",
      " 0.013214390724897385] False\n",
      "[-0.04895714297890663 0.013214390724897385 -0.06015516817569733\n",
      " 0.0303963590413332] False\n",
      "[-0.06015516817569733 0.0303963590413332 -0.06745440512895584\n",
      " 0.0418083518743515] False\n"
     ]
    }
   ],
   "source": [
    "env = gym.make('CartPole-v1')\n",
    "env.reset()\n",
    "env = ObsTimeExtensionWrapper(FeatureFilterWrapper(FeatureFilterWrapper(env, 3),1))\n",
    "for step in range(5):\n",
    "    action = torch.randint(0,2,(1,)).item()\n",
    "    observation, reward, terminated, truncated, info = env.step(action)\n",
    "    print(observation,terminated)"
   ]
  },
  {
   "cell_type": "markdown",
   "id": "31b16d16",
   "metadata": {},
   "source": [
    "## The ActionTimeExtensionWrapper\n",
    "\n",
    "It has been observed that, in partially observable environments, preparing to play a sequence of actions and only playing\n",
    "the first can be better than only preparing for one action. The difference comes from the fact that the critic evaluates\n",
    "sequences of actions, even if only the first is played in practice.\n",
    "\n",
    "Similarly to the ObsTimeExtensionWrapper, the corresponding behavior can be implemented with a wrapper.\n",
    "The size of the action space of the extended environment should be \n",
    "M times the size of the action space of the inner environment. This ensures that the policy and the critic\n",
    "will consider extended actions.\n",
    "Besides, the ```step(action)``` function should receive an extended actions of size M times the size of an action,\n",
    "and should only transmit the first action to the inner environment.\n",
    "\n",
    "\n",
    "### Exercise 3: code the ActionTimeExtensionWrapper class below.\n",
    "\n",
    "Beyond rewriting the ```reset()``` and ```step(action)``` functions, beware of adapting the action space and its shape."
   ]
  },
  {
   "cell_type": "code",
   "execution_count": 88,
   "id": "b4d0a90a",
   "metadata": {
    "lines_to_next_cell": 1
   },
   "outputs": [],
   "source": [
    "class ActionTimeExtensionWrapper(gym.ActionWrapper):\n",
    "    def __init__(self, env, action_horizon=2):\n",
    "        super().__init__(env)\n",
    "        self.action_horizon = action_horizon\n",
    "        self.action_space = gym.spaces.Box(\n",
    "            low=np.tile(env.action_space.low, self.action_horizon),\n",
    "            high=np.tile(env.action_space.high, self.action_horizon),\n",
    "            dtype=env.action_space.dtype\n",
    "        )\n",
    "    \n",
    "    def action(self, action):\n",
    "        return action[0]"
   ]
  },
  {
   "cell_type": "markdown",
   "id": "bb17e8da",
   "metadata": {},
   "source": [
    "## Launching tensorboard to visualize the results"
   ]
  },
  {
   "cell_type": "code",
   "execution_count": 94,
   "id": "19ccd87e",
   "metadata": {},
   "outputs": [
    {
     "data": {
      "text/html": [
       "\n",
       "      <iframe id=\"tensorboard-frame-10c59a4ea1c3121\" width=\"100%\" height=\"800\" frameborder=\"0\">\n",
       "      </iframe>\n",
       "      <script>\n",
       "        (function() {\n",
       "          const frame = document.getElementById(\"tensorboard-frame-10c59a4ea1c3121\");\n",
       "          const url = new URL(\"/\", window.location);\n",
       "          const port = 6006;\n",
       "          if (port) {\n",
       "            url.port = port;\n",
       "          }\n",
       "          frame.src = url;\n",
       "        })();\n",
       "      </script>\n",
       "    "
      ],
      "text/plain": [
       "<IPython.core.display.HTML object>"
      ]
     },
     "metadata": {},
     "output_type": "display_data"
    }
   ],
   "source": [
    "setup_tensorboard(\"./outputs/tblogs\")"
   ]
  },
  {
   "cell_type": "markdown",
   "id": "c77e5a03",
   "metadata": {},
   "source": [
    "# Experimental study"
   ]
  },
  {
   "cell_type": "markdown",
   "id": "b05b21da",
   "metadata": {},
   "source": [
    "To run the experiments below, you can use the [DDPG](https://arxiv.org/pdf/1509.02971.pdf) \n",
    "or [TD3](http://proceedings.mlr.press/v80/fujimoto18a/fujimoto18a.pdf) algorithms.\n",
    "\n",
    "You can just copy paste here the code you have used during the corresponding labs.\n",
    "We only provide a suggested set of hyper-parameters working well on the CartPoleContinuous-v1 environment for DDPG."
   ]
  },
  {
   "cell_type": "markdown",
   "id": "5dc2141f",
   "metadata": {},
   "source": [
    "## Definition of the parameters\n",
    "\n",
    "The logger is defined as `bbrl.utils.logger.TFLogger` so as to use a\n",
    "tensorboard visualisation."
   ]
  },
  {
   "cell_type": "code",
   "execution_count": null,
   "id": "7a4c3891",
   "metadata": {},
   "outputs": [],
   "source": [
    "params = {\n",
    "    \"save_best\": False,\n",
    "    \"base_dir\": \"${gym_env.env_name}/ddpg-S${algorithm.seed}_${current_time:}\",\n",
    "    \"collect_stats\": True,\n",
    "    # Set to true to have an insight on the learned policy\n",
    "    # (but slows down the evaluation a lot!)\n",
    "    \"plot_agents\": True,\n",
    "    \"algorithm\": {\n",
    "        \"seed\": 2,\n",
    "        \"max_grad_norm\": 0.5,\n",
    "        \"epsilon\": 0.02,\n",
    "        \"n_envs\": 1,\n",
    "        \"n_steps\": 100,\n",
    "        \"nb_evals\": 10,\n",
    "        \"discount_factor\": 0.8,\n",
    "        \"buffer_size\": 1e6,\n",
    "        \"batch_size\": 64,\n",
    "        \"tau_target\": 0.05,\n",
    "        \"eval_interval\": 2_000,\n",
    "        \"max_epochs\": 1500,\n",
    "        # Minimum number of transitions before learning starts\n",
    "        \"learning_starts\": 10_000,\n",
    "        \"action_noise\": 0.1,\n",
    "        \"architecture\": {\n",
    "            \"actor_hidden_size\": [400, 300],\n",
    "            \"critic_hidden_size\": [400, 300],\n",
    "        },\n",
    "    },\n",
    "    \"gym_env\": {\n",
    "        \"env_name\": \"CartPoleContinuous-v1\",\n",
    "            \n",
    "    },\n",
    "    \"actor_optimizer\": {\n",
    "        \"classname\": \"torch.optim.Adam\",\n",
    "        \"lr\": 1e-3,\n",
    "        # \"eps\": 5e-5,\n",
    "    },\n",
    "    \"critic_optimizer\": {\n",
    "        \"classname\": \"torch.optim.Adam\",\n",
    "        \"lr\": 1e-3,\n",
    "        # \"eps\": 5e-5,\n",
    "    },\n",
    "}"
   ]
  },
  {
   "cell_type": "markdown",
   "id": "9594e0d4",
   "metadata": {},
   "source": [
    "### Exercise 4:\n",
    "\n",
    "You know have all the elements to study the impact of removing features from the environment\n",
    "on the training performance, and the impact of temporally extending the agent in mitigating \n",
    "partial observability, both with observation and with action extension.\n",
    "\n",
    "In practice, you should produce the following learning curves:\n",
    "\n",
    "- a learning curve of your algorithm on the standard CartPoleContinuous-v1 environment with full observability,\n",
    "- two learning curves, one from removing $\\dot{x}$ from CartPoleContinuous-v1 and the other from removing $\\dot{\\theta}$, \n",
    "- one learning curve from removing both $\\dot{x}$ and $\\dot{\\theta}$, \n",
    "- the same four learning curves as above, but adding each of the temporal extension wrappers, separately or combined.\n",
    "\n",
    "The way to combine these learning curves in different figures is open to you but should be carefully considered\n",
    "depending on the conclusions you want to draw. Beware of drawing conclusions from insufficient statistics.\n",
    "\n",
    "Discuss what you observe and conclude from this study."
   ]
  },
  {
   "cell_type": "code",
   "execution_count": null,
   "id": "0270c81a",
   "metadata": {},
   "outputs": [],
   "source": [
    "# To be completed...\n",
    "\n",
    "assert False, 'Not implemented yet'\n"
   ]
  },
  {
   "cell_type": "markdown",
   "id": "6794c75f",
   "metadata": {},
   "source": [
    "# Lab report\n",
    "\n",
    "Your report should contain:\n",
    "- your source code (probably this notebook), do not forget to put your names on top of the notebook,\n",
    "- in a separate pdf file with your names in the name of the file:\n",
    "    + a detailed enough description of all the choices you have made: the parameters you have set, the algorithms you have used, etc.,\n",
    "    + the curves obtained when doing Exercise 3,\n",
    "    + your conclusion from these experiments.\n",
    "\n",
    "Beyond the elements required in this report, any additional studies will be rewarded.\n",
    "For instance, you can extend the temporal horizon for the state memory and or action sequences beyond 2, and study the \n",
    "impact on learning performance and training time,\n",
    "you can play with other partially observable environments, etc.\n",
    "A great achievement would be to perform a comparison with the approach based on an LSTM."
   ]
  }
 ],
 "metadata": {
  "jupytext": {
   "cell_markers": "\"\"\""
  },
  "kernelspec": {
   "display_name": "deepdac",
   "language": "python",
   "name": "deepdac"
  },
  "language_info": {
   "codemirror_mode": {
    "name": "ipython",
    "version": 3
   },
   "file_extension": ".py",
   "mimetype": "text/x-python",
   "name": "python",
   "nbconvert_exporter": "python",
   "pygments_lexer": "ipython3",
   "version": "3.10.12"
  }
 },
 "nbformat": 4,
 "nbformat_minor": 5
}
